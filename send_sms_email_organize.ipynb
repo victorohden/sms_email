{
 "cells": [
  {
   "cell_type": "code",
   "execution_count": null,
   "metadata": {},
   "outputs": [],
   "source": [
    "# -*- coding: utf-8 -*-\n",
    "\"\"\"\n",
    "Send email and msg\n",
    "@author: Victor Prudente\n",
    "\"\"\""
   ]
  },
  {
   "cell_type": "code",
   "execution_count": null,
   "metadata": {},
   "outputs": [],
   "source": [
    "# importing the library\n",
    "import smtplib"
   ]
  },
  {
   "cell_type": "markdown",
   "metadata": {},
   "source": [
    "### Important configuration\n",
    "- This notebook was created using some references. You can double-check the sources here and steps below.\n",
    "\n",
    "\"\"\"\n",
    "\n",
    "1- You need configure your email (in my case, gmail) to use on APP password. This will allow you to send emails and sms using python\n",
    "    - source:(https://www.youtube.com/watch?v=YKn6iRlYd_Q) \n",
    "    - https://myaccount.google.com/apppasswords\n",
    "\n",
    "2- I am not creating this from strech. Here there are some references that I used to create it:\n",
    "    - https://www.youtube.com/watch?v=3247tuklMEk\n",
    "    - https://github.com/AdamGetbags/emailToSMS/blob/main/emailToSMSConfig.py\n",
    "    - https://medium.com/testingonprod/how-to-send-text-messages-with-python-for-free-a7c92816e1a4\n",
    "\n",
    "\"\"\"\n"
   ]
  },
  {
   "cell_type": "markdown",
   "metadata": {},
   "source": [
    "**Do NOT share your information in a public domain**"
   ]
  },
  {
   "cell_type": "code",
   "execution_count": null,
   "metadata": {},
   "outputs": [],
   "source": [
    "#important setup\n",
    "\n",
    "CARRIERS = {\n",
    "    \"att\": \"@mms.att.net\",\n",
    "    \"tmobile\": \"@tmomail.net\",\n",
    "    \"verizon\": \"@vtext.com\",\n",
    "    \"sprint\": \"@messaging.sprintpcs.com\"\n",
    "}\n",
    " \n",
    "EMAIL = \"your.email@gmail.com\"\n",
    "PASSWORD = 'xxxx xxxx xxxx xxxx' # from the app password\n",
    " "
   ]
  },
  {
   "cell_type": "code",
   "execution_count": null,
   "metadata": {},
   "outputs": [],
   "source": [
    "#Funciton to send only a SMS\n",
    "def send_sms(phone_number, carrier, message):\n",
    "    \n",
    "    recipient = phone_number + CARRIERS[carrier]\n",
    "    auth = (EMAIL, PASSWORD)\n",
    " \n",
    "    server = smtplib.SMTP(\"smtp.gmail.com\", 587)\n",
    "    server.starttls()\n",
    "    server.login(auth[0], auth[1])\n",
    " \n",
    "    server.sendmail(auth[0], recipient, message)\n",
    "    server.close()\n",
    "\n",
    "\n",
    "#Funciton to send only a email\n",
    "def send_email(reciverEmail, subject, body): \n",
    "    \n",
    "    \n",
    "    #The smtplib.SMTP() class is typically used to establish a connection to an SMTP server, allowing you to send emails using your Python script.\n",
    "    server = smtplib.SMTP('smtp.gmail.com', 587)\n",
    "    server.starttls()# Use this line for TLS connection\n",
    "    auth = (EMAIL, PASSWORD)\n",
    "\n",
    "    #Loguin in your accoutn\n",
    "    server.login(auth[0], auth[1])\n",
    "\n",
    "    #creating the msg\n",
    "    message = f\"Subject: {subject}\\n\\n{body}\"\n",
    "\n",
    "\n",
    "    #Send the email\n",
    "    server.sendmail(auth[0], reciverEmail, message)\n",
    "    server.close()\n",
    "\n",
    "#Funciton to send an email and SMS\n",
    "def send_email_msg(reciverEmail, subject, body, phone_number, carrier):\n",
    "    server = smtplib.SMTP('smtp.gmail.com', 587)\n",
    "    server.starttls()# Use this line for TLS connection\n",
    "    auth = (EMAIL, PASSWORD)\n",
    "\n",
    "    #Loguin in your accoutn\n",
    "    server.login(auth[0], auth[1])\n",
    "\n",
    "    #creating the msg\n",
    "    message = f\"Subject: {subject}\\n\\n{body}\"\n",
    "\n",
    "\n",
    "    #Send the email\n",
    "    server.sendmail(auth[0], reciverEmail, message)\n",
    "    \n",
    "\n",
    "    recipient = phone_number + CARRIERS[carrier]\n",
    " \n",
    "    server.sendmail(auth[0], recipient, message)\n",
    "    server.close()"
   ]
  },
  {
   "cell_type": "code",
   "execution_count": null,
   "metadata": {},
   "outputs": [],
   "source": [
    "# Content that you want to sent\n",
    "msg = f\"Hello world\"\n",
    "subject = 'Python is amazing'"
   ]
  },
  {
   "cell_type": "code",
   "execution_count": null,
   "metadata": {},
   "outputs": [],
   "source": [
    "#Just a sms\n",
    "email = send_sms(phone_number='1111111111', #just numbers\n",
    "                carrier = 'att', \n",
    "                 message = msg)\n"
   ]
  },
  {
   "cell_type": "code",
   "execution_count": null,
   "metadata": {},
   "outputs": [],
   "source": [
    "#Just and email\n",
    "email = send_email(reciverEmail='email@gmail.com', \n",
    "            subject =subject, \n",
    "            body = msg)"
   ]
  },
  {
   "cell_type": "code",
   "execution_count": null,
   "metadata": {},
   "outputs": [],
   "source": [
    "#e-mail and sms\n",
    "email = send_email_msg(reciverEmail='email@gmail.com', \n",
    "            subject = subject, \n",
    "            body = msg, \n",
    "            phone_number='1111111111', \n",
    "            carrier = 'att')"
   ]
  }
 ],
 "metadata": {
  "kernelspec": {
   "display_name": ".venv",
   "language": "python",
   "name": "python3"
  },
  "language_info": {
   "codemirror_mode": {
    "name": "ipython",
    "version": 3
   },
   "file_extension": ".py",
   "mimetype": "text/x-python",
   "name": "python",
   "nbconvert_exporter": "python",
   "pygments_lexer": "ipython3",
   "version": "3.7.8"
  }
 },
 "nbformat": 4,
 "nbformat_minor": 2
}
